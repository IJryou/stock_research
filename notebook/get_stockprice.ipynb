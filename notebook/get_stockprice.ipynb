{
 "nbformat": 4,
 "nbformat_minor": 2,
 "metadata": {
  "language_info": {
   "name": "python",
   "codemirror_mode": {
    "name": "ipython",
    "version": 3
   },
   "version": "3.8.2-final"
  },
  "orig_nbformat": 2,
  "file_extension": ".py",
  "mimetype": "text/x-python",
  "name": "python",
  "npconvert_exporter": "python",
  "pygments_lexer": "ipython3",
  "version": 3,
  "kernelspec": {
   "name": "c9e4d666-eb90-4f35-99ea-d3faa7559ac5",
   "display_name": "'Python Interactive'"
  }
 },
 "cells": [
  {
   "cell_type": "code",
   "execution_count": 7,
   "metadata": {},
   "outputs": [],
   "source": [
    "import pandas_datareader as pdr\n",
    "import datetime as dt"
   ]
  },
  {
   "cell_type": "code",
   "execution_count": 8,
   "metadata": {},
   "outputs": [],
   "source": [
    "web = pdr.data"
   ]
  },
  {
   "cell_type": "code",
   "execution_count": 9,
   "metadata": {},
   "outputs": [],
   "source": [
    "start, end = dt.datetime(1920, 1, 1), dt.datetime(2013, 12, 31)"
   ]
  },
  {
   "cell_type": "code",
   "execution_count": 11,
   "metadata": {},
   "outputs": [
    {
     "data": {
      "text/html": "<div>\n<style scoped>\n    .dataframe tbody tr th:only-of-type {\n        vertical-align: middle;\n    }\n\n    .dataframe tbody tr th {\n        vertical-align: top;\n    }\n\n    .dataframe thead th {\n        text-align: right;\n    }\n</style>\n<table border=\"1\" class=\"dataframe\">\n  <thead>\n    <tr style=\"text-align: right;\">\n      <th></th>\n      <th>Date</th>\n      <th>High</th>\n      <th>Low</th>\n      <th>Open</th>\n      <th>Close</th>\n      <th>Volume</th>\n      <th>Adj Close</th>\n    </tr>\n  </thead>\n  <tbody>\n    <tr>\n      <th>0</th>\n      <td>1962-01-02</td>\n      <td>7.713333</td>\n      <td>7.626667</td>\n      <td>7.713333</td>\n      <td>7.626667</td>\n      <td>387200.0</td>\n      <td>0.618153</td>\n    </tr>\n    <tr>\n      <th>1</th>\n      <td>1962-01-03</td>\n      <td>7.693333</td>\n      <td>7.626667</td>\n      <td>7.626667</td>\n      <td>7.693333</td>\n      <td>288000.0</td>\n      <td>0.623556</td>\n    </tr>\n    <tr>\n      <th>2</th>\n      <td>1962-01-04</td>\n      <td>7.693333</td>\n      <td>7.613333</td>\n      <td>7.693333</td>\n      <td>7.616667</td>\n      <td>256000.0</td>\n      <td>0.617343</td>\n    </tr>\n    <tr>\n      <th>3</th>\n      <td>1962-01-05</td>\n      <td>7.606667</td>\n      <td>7.453333</td>\n      <td>7.606667</td>\n      <td>7.466667</td>\n      <td>363200.0</td>\n      <td>0.605185</td>\n    </tr>\n    <tr>\n      <th>4</th>\n      <td>1962-01-08</td>\n      <td>7.460000</td>\n      <td>7.266667</td>\n      <td>7.460000</td>\n      <td>7.326667</td>\n      <td>544000.0</td>\n      <td>0.593837</td>\n    </tr>\n    <tr>\n      <th>...</th>\n      <td>...</td>\n      <td>...</td>\n      <td>...</td>\n      <td>...</td>\n      <td>...</td>\n      <td>...</td>\n      <td>...</td>\n    </tr>\n    <tr>\n      <th>13085</th>\n      <td>2013-12-24</td>\n      <td>183.500000</td>\n      <td>181.910004</td>\n      <td>181.960007</td>\n      <td>183.220001</td>\n      <td>1613600.0</td>\n      <td>142.652817</td>\n    </tr>\n    <tr>\n      <th>13086</th>\n      <td>2013-12-26</td>\n      <td>185.559998</td>\n      <td>183.509995</td>\n      <td>183.559998</td>\n      <td>185.350006</td>\n      <td>3325700.0</td>\n      <td>144.311218</td>\n    </tr>\n    <tr>\n      <th>13087</th>\n      <td>2013-12-27</td>\n      <td>186.500000</td>\n      <td>184.559998</td>\n      <td>185.839996</td>\n      <td>185.080002</td>\n      <td>3381600.0</td>\n      <td>144.101013</td>\n    </tr>\n    <tr>\n      <th>13088</th>\n      <td>2013-12-30</td>\n      <td>186.699997</td>\n      <td>184.669998</td>\n      <td>185.320007</td>\n      <td>186.410004</td>\n      <td>3018600.0</td>\n      <td>145.136520</td>\n    </tr>\n    <tr>\n      <th>13089</th>\n      <td>2013-12-31</td>\n      <td>187.789993</td>\n      <td>186.300003</td>\n      <td>186.490005</td>\n      <td>187.570007</td>\n      <td>3619700.0</td>\n      <td>146.039658</td>\n    </tr>\n  </tbody>\n</table>\n<p>13090 rows × 7 columns</p>\n</div>",
      "text/plain": "            Date        High         Low        Open       Close     Volume  \\\n0     1962-01-02    7.713333    7.626667    7.713333    7.626667   387200.0   \n1     1962-01-03    7.693333    7.626667    7.626667    7.693333   288000.0   \n2     1962-01-04    7.693333    7.613333    7.693333    7.616667   256000.0   \n3     1962-01-05    7.606667    7.453333    7.606667    7.466667   363200.0   \n4     1962-01-08    7.460000    7.266667    7.460000    7.326667   544000.0   \n...          ...         ...         ...         ...         ...        ...   \n13085 2013-12-24  183.500000  181.910004  181.960007  183.220001  1613600.0   \n13086 2013-12-26  185.559998  183.509995  183.559998  185.350006  3325700.0   \n13087 2013-12-27  186.500000  184.559998  185.839996  185.080002  3381600.0   \n13088 2013-12-30  186.699997  184.669998  185.320007  186.410004  3018600.0   \n13089 2013-12-31  187.789993  186.300003  186.490005  187.570007  3619700.0   \n\n        Adj Close  \n0        0.618153  \n1        0.623556  \n2        0.617343  \n3        0.605185  \n4        0.593837  \n...           ...  \n13085  142.652817  \n13086  144.311218  \n13087  144.101013  \n13088  145.136520  \n13089  146.039658  \n\n[13090 rows x 7 columns]"
     },
     "execution_count": 11,
     "metadata": {},
     "output_type": "execute_result"
    }
   ],
   "source": [
    "web.DataReader('IBM','yahoo', start, end).reset_index()"
   ]
  },
  {
   "cell_type": "code",
   "execution_count": 13,
   "metadata": {},
   "outputs": [
    {
     "data": {
      "text/html": "<div>\n<style scoped>\n    .dataframe tbody tr th:only-of-type {\n        vertical-align: middle;\n    }\n\n    .dataframe tbody tr th {\n        vertical-align: top;\n    }\n\n    .dataframe thead th {\n        text-align: right;\n    }\n</style>\n<table border=\"1\" class=\"dataframe\">\n  <thead>\n    <tr style=\"text-align: right;\">\n      <th></th>\n      <th>High</th>\n      <th>Low</th>\n      <th>Open</th>\n      <th>Close</th>\n      <th>Volume</th>\n      <th>Adj Close</th>\n    </tr>\n    <tr>\n      <th>Date</th>\n      <th></th>\n      <th></th>\n      <th></th>\n      <th></th>\n      <th></th>\n      <th></th>\n    </tr>\n  </thead>\n  <tbody>\n    <tr>\n      <th>1921-01-03</th>\n      <td>72.669998</td>\n      <td>72.669998</td>\n      <td>72.669998</td>\n      <td>72.669998</td>\n      <td>0</td>\n      <td>72.669998</td>\n    </tr>\n    <tr>\n      <th>1921-01-04</th>\n      <td>72.760002</td>\n      <td>72.760002</td>\n      <td>72.760002</td>\n      <td>72.760002</td>\n      <td>0</td>\n      <td>72.760002</td>\n    </tr>\n    <tr>\n      <th>1921-01-05</th>\n      <td>73.129997</td>\n      <td>73.129997</td>\n      <td>73.129997</td>\n      <td>73.129997</td>\n      <td>0</td>\n      <td>73.129997</td>\n    </tr>\n    <tr>\n      <th>1921-01-06</th>\n      <td>74.309998</td>\n      <td>74.309998</td>\n      <td>74.309998</td>\n      <td>74.309998</td>\n      <td>0</td>\n      <td>74.309998</td>\n    </tr>\n    <tr>\n      <th>1921-01-07</th>\n      <td>75.209999</td>\n      <td>75.209999</td>\n      <td>75.209999</td>\n      <td>75.209999</td>\n      <td>0</td>\n      <td>75.209999</td>\n    </tr>\n    <tr>\n      <th>...</th>\n      <td>...</td>\n      <td>...</td>\n      <td>...</td>\n      <td>...</td>\n      <td>...</td>\n      <td>...</td>\n    </tr>\n    <tr>\n      <th>2013-12-24</th>\n      <td>16392.400391</td>\n      <td>16264.719727</td>\n      <td>16295.700195</td>\n      <td>16357.549805</td>\n      <td>1307630000</td>\n      <td>16357.549805</td>\n    </tr>\n    <tr>\n      <th>2013-12-26</th>\n      <td>16507.240234</td>\n      <td>16358.000000</td>\n      <td>16370.969727</td>\n      <td>16479.880859</td>\n      <td>1982270000</td>\n      <td>16479.880859</td>\n    </tr>\n    <tr>\n      <th>2013-12-27</th>\n      <td>16564.619141</td>\n      <td>16425.039062</td>\n      <td>16486.369141</td>\n      <td>16478.410156</td>\n      <td>2052920000</td>\n      <td>16478.410156</td>\n    </tr>\n    <tr>\n      <th>2013-12-30</th>\n      <td>16560.019531</td>\n      <td>16412.710938</td>\n      <td>16484.509766</td>\n      <td>16504.289062</td>\n      <td>2293860000</td>\n      <td>16504.289062</td>\n    </tr>\n    <tr>\n      <th>2013-12-31</th>\n      <td>16611.210938</td>\n      <td>16469.789062</td>\n      <td>16512.380859</td>\n      <td>16576.660156</td>\n      <td>2312840000</td>\n      <td>16576.660156</td>\n    </tr>\n  </tbody>\n</table>\n<p>23349 rows × 6 columns</p>\n</div>",
      "text/plain": "                    High           Low          Open         Close  \\\nDate                                                                 \n1921-01-03     72.669998     72.669998     72.669998     72.669998   \n1921-01-04     72.760002     72.760002     72.760002     72.760002   \n1921-01-05     73.129997     73.129997     73.129997     73.129997   \n1921-01-06     74.309998     74.309998     74.309998     74.309998   \n1921-01-07     75.209999     75.209999     75.209999     75.209999   \n...                  ...           ...           ...           ...   \n2013-12-24  16392.400391  16264.719727  16295.700195  16357.549805   \n2013-12-26  16507.240234  16358.000000  16370.969727  16479.880859   \n2013-12-27  16564.619141  16425.039062  16486.369141  16478.410156   \n2013-12-30  16560.019531  16412.710938  16484.509766  16504.289062   \n2013-12-31  16611.210938  16469.789062  16512.380859  16576.660156   \n\n                Volume     Adj Close  \nDate                                  \n1921-01-03           0     72.669998  \n1921-01-04           0     72.760002  \n1921-01-05           0     73.129997  \n1921-01-06           0     74.309998  \n1921-01-07           0     75.209999  \n...                ...           ...  \n2013-12-24  1307630000  16357.549805  \n2013-12-26  1982270000  16479.880859  \n2013-12-27  2052920000  16478.410156  \n2013-12-30  2293860000  16504.289062  \n2013-12-31  2312840000  16576.660156  \n\n[23349 rows x 6 columns]"
     },
     "execution_count": 13,
     "metadata": {},
     "output_type": "execute_result"
    }
   ],
   "source": [
    "web.DataReader('DJIA','yahoo', start, end)"
   ]
  },
  {
   "cell_type": "code",
   "execution_count": null,
   "metadata": {},
   "outputs": [],
   "source": []
  }
 ]
}